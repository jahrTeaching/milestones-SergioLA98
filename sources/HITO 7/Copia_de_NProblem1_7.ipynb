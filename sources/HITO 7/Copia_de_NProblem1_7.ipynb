{
  "nbformat": 4,
  "nbformat_minor": 0,
  "metadata": {
    "colab": {
      "provenance": [],
      "private_outputs": true
    },
    "kernelspec": {
      "name": "python3",
      "display_name": "Python 3"
    },
    "language_info": {
      "name": "python"
    },
    "accelerator": "GPU",
    "gpuClass": "standard"
  },
  "cells": [
    {
      "cell_type": "markdown",
      "source": [
        "### **Actualización 1.7:** (Sergio 10/12 a las 23:25)\n",
        "\n",
        "---\n",
        "\n",
        "\n",
        "* Cambio **IMPORTANTE** en archivos:\n",
        "  - Se importa TEMP_SCHEMES.py para los esquemas temporales, que solo dependen de U, dt, t, F. El esquema embebido necesita de ERK_AUX.py\n",
        "  - Se importa EDO.py para CauchyProblem que solo depende de (U,t,Scheme,F), es decir, sin modificar para alojar Nb y Nc.\n",
        "  - Se modifica F_NBody, que no lleva implementada Nc como argumento\n",
        "  - Para evitar dichos cambios, se wrappea la F en el main\n",
        "  - Creación del bucle para pintar en fijo las órbitas\n",
        "  - Actualización del 3d con los nuevos r_rec que hace el reshape de la r obtenida, asi como la u con U_rec\n",
        "\n",
        "\n",
        "\n",
        "\n"
      ],
      "metadata": {
        "id": "NUlqw9iE9qX7"
      }
    },
    {
      "cell_type": "markdown",
      "source": [
        "**ARCHIVOS EN USO**\n",
        "  \n",
        "\n",
        "*   TEMP_SCHEMES.py\n",
        "*   ERK_AUX.py\n",
        "*   fNbody.py\n",
        "*   initialConditions.py\n",
        "*   EDO.py\n",
        "*   main.py si quiero correr en local. MODIFICADO A LA v1.7\n",
        "\n",
        "**ARCHIVOS COPIADOS SIN USO**\n",
        "*   Cauchy_Problem.py antiguo de Cauchy modificado de Javi\n",
        "*   NBODY.py el de Sergio de n Body sin paralelizar\n",
        "*   Physics.py para pruebas con Kepler"
      ],
      "metadata": {
        "id": "tdG3feHGFt2D"
      }
    },
    {
      "cell_type": "markdown",
      "source": [
        "**COMENTARIOS**\n",
        "- Nacho está implementando masas y esferas de influencia. El punto de partida debería ser esta versión.\n",
        "- Tarda más con GPU que sin ella en el collab para 10 bodies y 100 secs. Habrá que definir un delta de t que sea de 0.01 a 0.001\n",
        "- Estudio comparativo en tiempos para un caso paralelizado y otro sin?"
      ],
      "metadata": {
        "id": "CkrY3ZzhJQet"
      }
    },
    {
      "cell_type": "markdown",
      "source": [
        "# Import Google Drive"
      ],
      "metadata": {
        "id": "tigmmMSf-rsN"
      }
    },
    {
      "cell_type": "code",
      "source": [
        "from google.colab import drive\n",
        "drive.mount('/content/drive')\n",
        "\n",
        "print('Enter the path:')\n",
        "path = input()\n",
        "import sys\n",
        "sys.path.insert(0,'/content/drive/MyDrive/'+path)\n"
      ],
      "metadata": {
        "id": "sc_IOGNL-mAW"
      },
      "execution_count": null,
      "outputs": []
    },
    {
      "cell_type": "markdown",
      "source": [
        "# Upload modules manually"
      ],
      "metadata": {
        "id": "avupuekxBlNT"
      }
    },
    {
      "cell_type": "code",
      "source": [
        "from google.colab import files\n",
        "files.upload()"
      ],
      "metadata": {
        "id": "BMchZnsjB5D3"
      },
      "execution_count": null,
      "outputs": []
    },
    {
      "cell_type": "markdown",
      "source": [
        "# Import functions"
      ],
      "metadata": {
        "id": "PN4DiHzNtcjZ"
      }
    },
    {
      "cell_type": "code",
      "execution_count": null,
      "metadata": {
        "id": "SphN7FUfjHep"
      },
      "outputs": [],
      "source": [
        "import numpy as np\n",
        "import math\n",
        "from numba import cuda\n",
        "from scipy.optimize import newton\n",
        "import matplotlib.pyplot as plt\n",
        "import matplotlib.animation as animation\n",
        "from mpl_toolkits.mplot3d import Axes3D\n",
        "\n",
        "from EDO import CauchyProblem\n",
        "#Cauchy(F,t,U0,Scheme)\n",
        "from TEMP_SCHEMES import Euler_Scheme, CrankNicolson_Scheme, RK4_Scheme, InvEuler_Scheme, LeapFrog, Embedded_RK\n",
        "#Scheme(U,dt,t,F)\n",
        "from fNbody import F_NBody #(U,t,Nb,Nc,M)\n",
        "from initialConditions import initial_cond\n",
        "from Physics import Kepler"
      ]
    },
    {
      "cell_type": "markdown",
      "source": [
        "# Información de la GPU"
      ],
      "metadata": {
        "id": "gpmXrFD2cBXr"
      }
    },
    {
      "cell_type": "code",
      "source": [
        "from numba import cuda\n",
        "gpu = cuda.get_current_device()\n",
        "print(\"name = %s\" % gpu.name)\n",
        "print(\"maxThreadsPerBlock = %s\" % str(gpu.MAX_THREADS_PER_BLOCK))\n",
        "print(\"maxBlockDimX = %s\" % str(gpu.MAX_BLOCK_DIM_X))\n",
        "print(\"maxBlockDimY = %s\" % str(gpu.MAX_BLOCK_DIM_Y))\n",
        "print(\"maxBlockDimZ = %s\" % str(gpu.MAX_BLOCK_DIM_Z))\n",
        "print(\"maxGridDimX = %s\" % str(gpu.MAX_GRID_DIM_X))\n",
        "print(\"maxGridDimY = %s\" % str(gpu.MAX_GRID_DIM_Y))\n",
        "print(\"maxGridDimZ = %s\" % str(gpu.MAX_GRID_DIM_Z))\n",
        "print(\"maxSharedMemoryPerBlock = %s\" % str(gpu.MAX_SHARED_MEMORY_PER_BLOCK))\n",
        "print(\"asyncEngineCount = %s\" % str(gpu.ASYNC_ENGINE_COUNT))\n",
        "print(\"canMapHostMemory = %s\" % str(gpu.CAN_MAP_HOST_MEMORY))\n",
        "print(\"multiProcessorCount = %s\" % str(gpu.MULTIPROCESSOR_COUNT))\n",
        "print(\"maxThreadsPerMultiprocessor = %s\" % str(gpu.MAX_THREADS_PER_MULTI_PROCESSOR))\n",
        "print(\"warpSize = %s\" % str(gpu.WARP_SIZE))\n",
        "print(\"unifiedAddressing = %s\" % str(gpu.UNIFIED_ADDRESSING))\n",
        "print(\"pciBusID = %s\" % str(gpu.PCI_BUS_ID))\n",
        "print(\"pciDeviceID = %s\" % str(gpu.PCI_DEVICE_ID))\n",
        "\n",
        "cuda.detect()"
      ],
      "metadata": {
        "id": "Q3zlAh-1b_K1"
      },
      "execution_count": null,
      "outputs": []
    },
    {
      "cell_type": "markdown",
      "source": [
        "# main"
      ],
      "metadata": {
        "id": "E7UauH5mZ5do"
      }
    },
    {
      "cell_type": "code",
      "source": [
        "print('Enter number of bodies:')\n",
        "Nb = int(input()) # 1024*72*2 # nº cuerpos tiene que ser 1024 (nº threads por bloque) * 72 (nº bloques o SM) * A (nº entero a elegir)\n",
        "Nc = 3 # nº coord\n",
        "\n",
        "t0 = 0 # timepo inicial\n",
        "print('Enter time [s]:')\n",
        "tf = int(input()) # tiempo final\n",
        "N = 10*tf # number of time steps\n",
        "t = np.linspace(t0, tf, N)\n",
        "\n",
        "U0, M = initial_cond(Nb,Nc) #ok\n",
        "\n",
        "def F(U,t):#wrapp de la F para no cambiar Cauchy ni los esquemas\n",
        "  return F_NBody(U, t, Nb, Nc)\n",
        "\n",
        "U = CauchyProblem(F, t, U0, Embedded_RK)\n",
        "U_rec = np.reshape(U,(N, Nb, 2, Nc))\n",
        "r_rec = np.reshape(U_rec[:,:,0,:],(N,Nb,Nc))\n",
        "\n",
        "        \n",
        "\n",
        "        \n",
        " \n",
        "\n",
        "\n",
        "\n"
      ],
      "metadata": {
        "id": "vW1JerY3Z6M_"
      },
      "execution_count": null,
      "outputs": []
    },
    {
      "cell_type": "markdown",
      "source": [
        "# 3D plot animation"
      ],
      "metadata": {
        "id": "ddr7gVU0d8WC"
      }
    },
    {
      "cell_type": "code",
      "source": [
        "# 3D PLOT ANITAMED\n",
        "def update_lines(num, walks, lines):\n",
        "    for line, walk in zip(lines, walks):\n",
        "        # NOTE: there is no .set_data() for 3 dim data...\n",
        "        line.set_data(walk[:num, :2].T)\n",
        "        line.set_3d_properties(walk[:num, 2])\n",
        "    return lines\n",
        "\n",
        "def paint(N,Nc,r,index):\n",
        "  line=np.zeros((N,Nc))\n",
        "  for i in range(N):\n",
        "    line[i,:]=r[i,index,:]\n",
        "  return line\n",
        "\n",
        "# Data: Nb lines as (num_steps, 3) arrays\n",
        "datas = [paint(N,Nc,r_rec,index) for index in range(Nb)]\n",
        "#print (\"datas: \",datas)\n",
        "\n",
        "# Attaching 3D axis to the figure\n",
        "fig = plt.figure()\n",
        "ax = fig.add_subplot(projection=\"3d\")\n",
        "\n",
        "# Create lines initially without data\n",
        "lines = [ax.plot([], [], [])[0] for _ in datas]\n",
        "\n",
        "# Setting the axes properties\n",
        "ax.set(xlim3d=(-10, 10), xlabel='X')\n",
        "ax.set(ylim3d=(-10, 10), ylabel='Y')\n",
        "ax.set(zlim3d=(-10, 10), zlabel='Z')\n",
        "\n",
        "# Creating the Animation object\n",
        "line_ani = animation.FuncAnimation(fig, update_lines, N//2, fargs=(datas, lines), interval=2500)\n",
        "\n",
        "f = r\"/content/drive/MyDrive/\" + path + \"/animation2.mp4\" \n",
        "writervideo = animation.FFMpegWriter(fps=60) \n",
        "line_ani.save(f, writer=writervideo, dpi=300)\n",
        "#plt.show()"
      ],
      "metadata": {
        "id": "xOW25OVAyf_B"
      },
      "execution_count": null,
      "outputs": []
    },
    {
      "cell_type": "code",
      "source": [
        "# 3D PLOT FIJO\n",
        "colors = ['b','r','g','m','y','c']\n",
        "fig = plt.figure(2)\n",
        "ax = fig.add_subplot(projection='3d')\n",
        "for i in range(Nb):\n",
        "  ax.plot(r_rec[:, i, 0], r_rec[:, i, 1], r_rec[:, i, 2])#, colors[i])\n",
        "\n",
        "plt.title(f'N = {Nb} body problem: 3D projection')\n",
        "plt.xlabel(\"x\")\n",
        "plt.ylabel(\"y\")\n",
        "\n",
        "#plt.grid(True)\n",
        "plt.show()"
      ],
      "metadata": {
        "id": "_-BMBg3kkalG"
      },
      "execution_count": null,
      "outputs": []
    }
  ]
}